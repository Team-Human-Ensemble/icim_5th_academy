{
 "cells": [
  {
   "cell_type": "code",
   "execution_count": 8,
   "metadata": {},
   "outputs": [],
   "source": [
    "import numpy as np\n",
    "import pandas as pd\n",
    "import matplotlib.pyplot as plt\n",
    "\n",
    "from sklearn.preprocessing import StandardScaler\n",
    "from sklearn.manifold import MDS"
   ]
  },
  {
   "cell_type": "code",
   "execution_count": 7,
   "metadata": {},
   "outputs": [
    {
     "name": "stdout",
     "output_type": "stream",
     "text": [
      "  Unnamed: 0 Unnamed: 1 Baseline Features Unnamed: 3 Unnamed: 4 Unnamed: 5  \\\n",
      "0         id     gender               PPE        DFA       RPDE  numPulses   \n",
      "1          0          1           0.85247    0.71826    0.57227        240   \n",
      "2          0          1           0.76686    0.69481    0.53966        234   \n",
      "\n",
      "         Unnamed: 6        Unnamed: 7          Unnamed: 8    Unnamed: 9  ...  \\\n",
      "0  numPeriodsPulses  meanPeriodPulses  stdDevPeriodPulses  locPctJitter  ...   \n",
      "1               239        0.00806353            8.68E-05       0.00218  ...   \n",
      "2               233       0.008258256            7.31E-05       0.00195  ...   \n",
      "\n",
      "                Unnamed: 745               Unnamed: 746  \\\n",
      "0  tqwt_kurtosisValue_dec_28  tqwt_kurtosisValue_dec_29   \n",
      "1                      1.562                     2.6445   \n",
      "2                     1.5589                     3.6107   \n",
      "\n",
      "                Unnamed: 747               Unnamed: 748  \\\n",
      "0  tqwt_kurtosisValue_dec_30  tqwt_kurtosisValue_dec_31   \n",
      "1                     3.8686                     4.2105   \n",
      "2                    23.5155                    14.1962   \n",
      "\n",
      "                Unnamed: 749               Unnamed: 750  \\\n",
      "0  tqwt_kurtosisValue_dec_32  tqwt_kurtosisValue_dec_33   \n",
      "1                     5.1221                     4.4625   \n",
      "2                    11.0261                     9.5082   \n",
      "\n",
      "                Unnamed: 751               Unnamed: 752  \\\n",
      "0  tqwt_kurtosisValue_dec_34  tqwt_kurtosisValue_dec_35   \n",
      "1                     2.6202                     3.0004   \n",
      "2                     6.5245                     6.3431   \n",
      "\n",
      "                Unnamed: 753 Unnamed: 754  \n",
      "0  tqwt_kurtosisValue_dec_36        class  \n",
      "1                    18.9405            1  \n",
      "2                     45.178            1  \n",
      "\n",
      "[3 rows x 755 columns]\n"
     ]
    }
   ],
   "source": [
    "data = pd.read_csv('./icim_5th_academy/data/parkinson_disease_speech.csv')\n",
    "\n",
    "print(data.head(3))"
   ]
  },
  {
   "cell_type": "code",
   "execution_count": 9,
   "metadata": {},
   "outputs": [],
   "source": [
    "def tdaSelection(data,lens,is_min_best=True):\n",
    "    data_scaled = StandardScaler().fit_transform(data)\n",
    "    clusters = {}\n",
    "    bins = np.histogram(lens)[1]\n",
    "    bins[-1] = np.inf\n",
    "    for i,f in zip(np.digitize(lens,bins),lens.index):\n",
    "        if (i-1 not in clusters.keys()):\n",
    "            clusters[i-1] = [f]\n",
    "        else:\n",
    "            clusters[i-1].append(f)\n",
    "    dist = pd.DataFrame(np.arccos(abs(np.corrcoef(data_scaled.T))),index=data.columns,columns=data.columns)\n",
    "    distmat = pd.DataFrame(np.zeros((len(clusters.keys()),len(clusters.keys()))),index=clusters.keys(),columns=clusters.keys())\n",
    "    for i in np.arange(len(distmat)):\n",
    "        for j in np.arange(i):\n",
    "            distmat.iloc[i,j] = dist.loc[clusters[distmat.index[i]],clusters[distmat.index[j]]].min().min()\n",
    "    distmat += distmat.T\n",
    "            \n",
    "    initial_cluster = max(clusters.keys()) if (is_min_best==True) else 0\n",
    "    initial_feature = lens[clusters[initial_cluster]].idxmin() if (is_min_best==True) else lens[clusters[initial_cluster]].idxmax()\n",
    "    \n",
    "    used_clusters = [initial_cluster]\n",
    "    selected_features = [initial_feature]\n",
    "    \n",
    "    for k in clusters.keys():\n",
    "        if k==initial_cluster:\n",
    "            continue\n",
    "        else:\n",
    "            new_cluster = distmat[used_clusters].min(axis=1).idxmax()\n",
    "        used_clusters += [new_cluster]\n",
    "        new_feature = lens[clusters[new_cluster]].idxmin() if (is_min_best==True) else lens[clusters[new_cluster]].idxmax()\n",
    "        selected_features.append(new_feature)\n",
    "        \n",
    "    return selected_features,clusters,used_clusters"
   ]
  },
  {
   "cell_type": "code",
   "execution_count": null,
   "metadata": {},
   "outputs": [],
   "source": [
    "for i in np.arrange(r):\n",
    "    cluster[r] = score[i]"
   ]
  }
 ],
 "metadata": {
  "kernelspec": {
   "display_name": "Python 3",
   "language": "python",
   "name": "python3"
  },
  "language_info": {
   "codemirror_mode": {
    "name": "ipython",
    "version": 3
   },
   "file_extension": ".py",
   "mimetype": "text/x-python",
   "name": "python",
   "nbconvert_exporter": "python",
   "pygments_lexer": "ipython3",
   "version": "3.5.5"
  }
 },
 "nbformat": 4,
 "nbformat_minor": 4
}
